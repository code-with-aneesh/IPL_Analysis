{
 "cells": [
  {
   "cell_type": "code",
   "execution_count": null,
   "metadata": {},
   "outputs": [],
   "source": [
    "import pandas as pd # type: ignore\n",
    "import numpy as np\n",
    "import matplotlib as plot # type: ignore"
   ]
  },
  {
   "cell_type": "code",
   "execution_count": null,
   "metadata": {},
   "outputs": [],
   "source": [
    "df = pd.read_csv(\"deliveries.csv\")\n",
    "df.head()"
   ]
  },
  {
   "cell_type": "code",
   "execution_count": null,
   "metadata": {},
   "outputs": [],
   "source": [
    "# different types of extras\n",
    "\n",
    "df['extras_type'].value_counts()"
   ]
  },
  {
   "cell_type": "code",
   "execution_count": null,
   "metadata": {},
   "outputs": [],
   "source": [
    "# bowler who has bowled most balls in ipl\n",
    "\n",
    "df['bowler'].value_counts().head(10)"
   ]
  },
  {
   "cell_type": "code",
   "execution_count": null,
   "metadata": {},
   "outputs": [],
   "source": [
    "# Assuming df is your DataFrame with columns 'batter' and 'non_striker'\n",
    "\n",
    "# Count the number of balls faced by each batter\n",
    "batter_counts = df['batter'].value_counts()\n",
    "\n",
    "# Count the number of balls faced by each non-striker\n",
    "non_striker_counts = df['non_striker'].value_counts()\n",
    "\n",
    "# Sum the counts of balls faced by each player\n",
    "total_balls_faced = batter_counts.add(non_striker_counts, fill_value=0)\n",
    "\n",
    "total_balls_faced.sort_values(ascending=False).head()"
   ]
  },
  {
   "cell_type": "code",
   "execution_count": null,
   "metadata": {},
   "outputs": [],
   "source": [
    "# most balls in an over\n",
    "\n",
    "max_balls_index = df[\"ball\"].idxmax()\n",
    "max_balls_row = df.loc[max_balls_index]\n",
    "\n",
    "print(\"Bowler with the maximum balls in an over:\")\n",
    "print(max_balls_row[\"bowler\"])"
   ]
  },
  {
   "cell_type": "code",
   "execution_count": null,
   "metadata": {},
   "outputs": [],
   "source": [
    "# different types of dismisal in ipl\n",
    "\n",
    "df['dismissal_kind'].value_counts()"
   ]
  },
  {
   "cell_type": "code",
   "execution_count": null,
   "metadata": {},
   "outputs": [],
   "source": [
    "# most dismissed batsman\n",
    "\n",
    "df[\"player_dismissed\"].value_counts().head()"
   ]
  },
  {
   "cell_type": "code",
   "execution_count": null,
   "metadata": {},
   "outputs": [],
   "source": [
    "# Filter the DataFrame based on the condition\n",
    "wides_df = df[df['extras_type'] == 'wides']\n",
    "\n",
    "# Group by the bowler and count the number of wides bowled by each bowler\n",
    "bowler_wides_count = wides_df.groupby('bowler').size()\n",
    "\n",
    "# Find the bowler who has bowled the most wides\n",
    "most_wides_bowler = bowler_wides_count.idxmax()\n",
    "most_wides_count = bowler_wides_count.max()\n",
    "\n",
    "print(f\"The bowler who has bowled the most wides is {most_wides_bowler} with {most_wides_count} wides.\")\n"
   ]
  },
  {
   "cell_type": "code",
   "execution_count": null,
   "metadata": {},
   "outputs": [],
   "source": [
    "# Filter the DataFrame based on the condition\n",
    "noballs_df = df[df['extras_type'] == 'noballs']\n",
    "\n",
    "# Group by the bowler and count the number of wides bowled by each bowler\n",
    "bowler_noballs_count = noballs_df.groupby('bowler').size()\n",
    "\n",
    "bowler_noballs_count.sort_values(ascending=False).head(10)"
   ]
  },
  {
   "cell_type": "code",
   "execution_count": null,
   "metadata": {},
   "outputs": [],
   "source": []
  }
 ],
 "metadata": {
  "kernelspec": {
   "display_name": "base",
   "language": "python",
   "name": "python3"
  },
  "language_info": {
   "codemirror_mode": {
    "name": "ipython",
    "version": 3
   },
   "file_extension": ".py",
   "mimetype": "text/x-python",
   "name": "python",
   "nbconvert_exporter": "python",
   "pygments_lexer": "ipython3",
   "version": "3.11.5"
  }
 },
 "nbformat": 4,
 "nbformat_minor": 2
}
