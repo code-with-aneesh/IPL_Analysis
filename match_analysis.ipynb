{
 "cells": [
  {
   "cell_type": "code",
   "execution_count": null,
   "metadata": {},
   "outputs": [],
   "source": [
    "import pandas as pd # type: ignore\n",
    "import numpy as np #type: ignore\n",
    "import matplotlib as plot # type: ignore"
   ]
  },
  {
   "cell_type": "code",
   "execution_count": null,
   "id": "f3d17cc4",
   "metadata": {},
   "outputs": [],
   "source": [
    "# import the dataset\n",
    "\n",
    "df = pd.read_csv(\"matches.csv\")\n",
    "df.head()"
   ]
  },
  {
   "cell_type": "code",
   "execution_count": null,
   "id": "275b68e6",
   "metadata": {},
   "outputs": [],
   "source": [
    "# number of super overs played in ipl\n",
    "\n",
    "df[\"super_over\"].value_counts()"
   ]
  },
  {
   "cell_type": "code",
   "execution_count": null,
   "id": "0648ba1f",
   "metadata": {},
   "outputs": [],
   "source": [
    "# replace \"Rising Pune Supergiant\" with \"Rising Pune Supergiants\" as both are same\n",
    "\n",
    "df.loc[df['team2'] == \"Rising Pune Supergiant\", 'team2'] = 'Rising Pune Supergiants'\n",
    "df.loc[df['team1'] == \"Rising Pune Supergiant\", 'team1'] = 'Rising Pune Supergiants'"
   ]
  },
  {
   "cell_type": "code",
   "execution_count": null,
   "id": "768cb46d",
   "metadata": {},
   "outputs": [],
   "source": [
    "# players who have won the most man of the match\n",
    "\n",
    "df['player_of_match'].value_counts().head(10)"
   ]
  },
  {
   "cell_type": "code",
   "execution_count": null,
   "id": "4ee6e99f",
   "metadata": {},
   "outputs": [],
   "source": [
    "# different types of matches played since the beginning\n",
    "\n",
    "df['match_type'].value_counts()"
   ]
  },
  {
   "cell_type": "code",
   "execution_count": null,
   "id": "32faba64",
   "metadata": {},
   "outputs": [],
   "source": [
    "# teams that have played in final with their counts\n",
    "\n",
    "final_matches = df[df[\"match_type\"] == \"Final\"]\n",
    "\n",
    "teams_in_final = pd.concat([final_matches[\"team1\"], final_matches[\"team2\"]])\n",
    "\n",
    "final_teams_count = teams_in_final.value_counts()\n",
    "\n",
    "all_teams = set(df[\"team1\"]).union(set(df[\"team2\"]))\n",
    "\n",
    "final_teams_count = final_teams_count.reindex(all_teams, fill_value=0)\n",
    "\n",
    "final_teams_count_sorted = final_teams_count.sort_values(ascending=False)\n",
    "\n",
    "print(final_teams_count_sorted)"
   ]
  },
  {
   "cell_type": "code",
   "execution_count": null,
   "id": "092ab9f3",
   "metadata": {},
   "outputs": [],
   "source": [
    "df['venue'].value_counts().head()"
   ]
  },
  {
   "cell_type": "code",
   "execution_count": null,
   "id": "57fba4d4",
   "metadata": {},
   "outputs": [],
   "source": [
    "df[df['venue'] == \"Wankhede Stadium\"].head()"
   ]
  },
  {
   "cell_type": "code",
   "execution_count": null,
   "id": "76e8c679",
   "metadata": {},
   "outputs": [],
   "source": [
    "df[df['venue'] == \"Wankhede Stadium, Mumbai\"].head()"
   ]
  },
  {
   "cell_type": "code",
   "execution_count": null,
   "id": "6ad09768",
   "metadata": {},
   "outputs": [],
   "source": [
    "df['season'].value_counts()\n",
    "\n",
    "# replace years in wrong format\n",
    "\n",
    "df.loc[df.season == '2009/10','season'] = 2010\n",
    "df.loc[df.season == '2007/08','season'] = 2008\n",
    "df.loc[df.season == '2020/21','season'] = 2020"
   ]
  },
  {
   "cell_type": "code",
   "execution_count": null,
   "id": "db391886",
   "metadata": {},
   "outputs": [],
   "source": [
    "# find umpires under whom mumbai indians have won\n",
    "\n",
    "print(df[df['winner'] == 'Mumbai Indians']['umpire1'].value_counts().head(10))\n",
    "df[df['winner'] == 'Mumbai Indians']['umpire2'].value_counts().head(10)"
   ]
  },
  {
   "cell_type": "code",
   "execution_count": null,
   "id": "0d2646e0",
   "metadata": {},
   "outputs": [],
   "source": [
    "# to check how much does winning the toss convert to victory\n",
    "\n",
    "all_teams = df[\"team1\"].unique().tolist()\n",
    "\n",
    "d = {}\n",
    "\n",
    "for team in all_teams:\n",
    "    # win the toss and win the match\n",
    "    count_win = df[(df[\"toss_winner\"] == team) & (df[\"winner\"] == team)].shape[0]\n",
    "    # win the toss but lose the match\n",
    "    count_loss = df[(df[\"toss_winner\"] == team) & (df[\"winner\"] != team)].shape[0]\n",
    "    # ratio of games won when toss is won against total games when toss is won\n",
    "    print(f\"{team.ljust(max_team_name_length)} : {round(count_win/(count_win + count_loss),2)}\")"
   ]
  },
  {
   "cell_type": "code",
   "execution_count": null,
   "id": "fe61a25c",
   "metadata": {},
   "outputs": [],
   "source": [
    "# which team has won the most tosses compared to games played\n",
    "\n",
    "total_matches_per_team = {}\n",
    "total_toss_wins_per_team = {}\n",
    "\n",
    "for team in all_teams:\n",
    "    matches_played = df[(df['team1'] == team) | (df['team2'] == team)].shape[0]\n",
    "    total_matches_per_team[team] = matches_played\n",
    "    tosses_won = df[df['toss_winner'] == team].shape[0]\n",
    "    total_toss_wins_per_team[team] = tosses_won\n",
    "\n",
    "sorted_teams = sorted(total_toss_wins_per_team.items(), key=lambda x: x[1] / total_matches_per_team[x[0]], reverse=True)\n",
    "max_team_name_length = max(len(team) for team in total_matches_per_team.keys())\n",
    "\n",
    "for team, toss_wins in sorted_teams:\n",
    "    toss_win_ratio = toss_wins / total_matches_per_team[team]\n",
    "    print(f'{team.ljust(max_team_name_length)} : {toss_win_ratio:.3f}')"
   ]
  },
  {
   "cell_type": "code",
   "execution_count": null,
   "id": "2e38f13c",
   "metadata": {},
   "outputs": [],
   "source": [
    "total_matches_per_team = dict(sorted(total_matches_per_team.items(), key=lambda item: item[1], reverse=True))\n",
    "max_team_name_length = max(len(team) for team in total_matches_per_team.keys())\n",
    "\n",
    "for team, matches_played in total_matches_per_team.items():\n",
    "    print(f'{team.ljust(max_team_name_length)} : {matches_played}')\n"
   ]
  },
  {
   "cell_type": "code",
   "execution_count": null,
   "id": "0a8daffa",
   "metadata": {},
   "outputs": [],
   "source": [
    "team_toss_decisions = {}\n",
    "\n",
    "for team in all_teams:\n",
    "    team_toss_df = df[df['toss_winner'] == team]\n",
    "    toss_decisions_count = team_toss_df['toss_decision'].value_counts()\n",
    "    team_toss_decisions[team] = toss_decisions_count\n",
    "\n",
    "for team, toss_decisions in team_toss_decisions.items():\n",
    "    print(team)\n",
    "    print(toss_decisions)\n"
   ]
  },
  {
   "cell_type": "code",
   "execution_count": null,
   "id": "fa05431a",
   "metadata": {},
   "outputs": [],
   "source": [
    "# determine relationship betweeen winning the toss and winning/losing\n",
    "\n",
    "w = df[df['toss_winner'] == df['winner']].shape[0]\n",
    "print(f'number of matches where toss winner wins the match {w}\\n')\n",
    "\n",
    "l = df[df['toss_winner'] != df['winner']].shape[0]\n",
    "print(f'number of matches where toss winner loses the match {l}')"
   ]
  },
  {
   "cell_type": "code",
   "execution_count": null,
   "id": "73152951",
   "metadata": {},
   "outputs": [],
   "source": [
    "team_to_victory_ratio = {}\n",
    "\n",
    "for team in all_teams:\n",
    "    toss_won = sum(df['toss_winner'] == team)\n",
    "    match_and_toss_won = sum((df['winner'] == team) & (df['toss_winner'] == team))\n",
    "    \n",
    "    if toss_won != 0:  # to avoid division by zero\n",
    "        ratio = round(match_and_toss_won / toss_won, 3)\n",
    "    else:\n",
    "        ratio = 0\n",
    "        \n",
    "    team_to_victory_ratio[team] = ratio\n",
    "\n",
    "team_to_victory_ratio_sorted = dict(sorted(team_to_victory_ratio.items(), key=lambda item: item[1], reverse=True))\n",
    "\n",
    "for team, ratio in team_to_victory_ratio_sorted.items():\n",
    "    print(f'{team.ljust(max_team_name_length)} : {ratio:.3f}')\n"
   ]
  },
  {
   "cell_type": "code",
   "execution_count": null,
   "id": "e8198b8f",
   "metadata": {},
   "outputs": [],
   "source": [
    "# highest victory margins\n",
    "\n",
    "sorted_df = df.sort_values(by='result_margin', ascending=False)\n",
    "\n",
    "sorted_df[['result_margin','team1','team2','winner','date']].head()\n"
   ]
  },
  {
   "cell_type": "code",
   "execution_count": null,
   "id": "8fe0af49",
   "metadata": {},
   "outputs": [],
   "source": []
  }
 ],
 "metadata": {
  "kernelspec": {
   "display_name": "base",
   "language": "python",
   "name": "python3"
  },
  "language_info": {
   "codemirror_mode": {
    "name": "ipython",
    "version": 3
   },
   "file_extension": ".py",
   "mimetype": "text/x-python",
   "name": "python",
   "nbconvert_exporter": "python",
   "pygments_lexer": "ipython3",
   "version": "3.11.5"
  }
 },
 "nbformat": 4,
 "nbformat_minor": 5
}
