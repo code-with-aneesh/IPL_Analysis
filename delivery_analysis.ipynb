{
 "cells": [
  {
   "cell_type": "code",
   "execution_count": 1,
   "metadata": {},
   "outputs": [],
   "source": [
    "import pandas as pd # type: ignore\n",
    "import numpy as np\n",
    "import matplotlib as plot # type: ignore"
   ]
  },
  {
   "cell_type": "code",
   "execution_count": 2,
   "metadata": {},
   "outputs": [
    {
     "data": {
      "text/html": [
       "<div>\n",
       "<style scoped>\n",
       "    .dataframe tbody tr th:only-of-type {\n",
       "        vertical-align: middle;\n",
       "    }\n",
       "\n",
       "    .dataframe tbody tr th {\n",
       "        vertical-align: top;\n",
       "    }\n",
       "\n",
       "    .dataframe thead th {\n",
       "        text-align: right;\n",
       "    }\n",
       "</style>\n",
       "<table border=\"1\" class=\"dataframe\">\n",
       "  <thead>\n",
       "    <tr style=\"text-align: right;\">\n",
       "      <th></th>\n",
       "      <th>match_id</th>\n",
       "      <th>inning</th>\n",
       "      <th>batting_team</th>\n",
       "      <th>bowling_team</th>\n",
       "      <th>over</th>\n",
       "      <th>ball</th>\n",
       "      <th>batter</th>\n",
       "      <th>bowler</th>\n",
       "      <th>non_striker</th>\n",
       "      <th>batsman_runs</th>\n",
       "      <th>extra_runs</th>\n",
       "      <th>total_runs</th>\n",
       "      <th>extras_type</th>\n",
       "      <th>is_wicket</th>\n",
       "      <th>player_dismissed</th>\n",
       "      <th>dismissal_kind</th>\n",
       "      <th>fielder</th>\n",
       "    </tr>\n",
       "  </thead>\n",
       "  <tbody>\n",
       "    <tr>\n",
       "      <th>0</th>\n",
       "      <td>335982</td>\n",
       "      <td>1</td>\n",
       "      <td>Kolkata Knight Riders</td>\n",
       "      <td>Royal Challengers Bangalore</td>\n",
       "      <td>0</td>\n",
       "      <td>1</td>\n",
       "      <td>SC Ganguly</td>\n",
       "      <td>P Kumar</td>\n",
       "      <td>BB McCullum</td>\n",
       "      <td>0</td>\n",
       "      <td>1</td>\n",
       "      <td>1</td>\n",
       "      <td>legbyes</td>\n",
       "      <td>0</td>\n",
       "      <td>NaN</td>\n",
       "      <td>NaN</td>\n",
       "      <td>NaN</td>\n",
       "    </tr>\n",
       "    <tr>\n",
       "      <th>1</th>\n",
       "      <td>335982</td>\n",
       "      <td>1</td>\n",
       "      <td>Kolkata Knight Riders</td>\n",
       "      <td>Royal Challengers Bangalore</td>\n",
       "      <td>0</td>\n",
       "      <td>2</td>\n",
       "      <td>BB McCullum</td>\n",
       "      <td>P Kumar</td>\n",
       "      <td>SC Ganguly</td>\n",
       "      <td>0</td>\n",
       "      <td>0</td>\n",
       "      <td>0</td>\n",
       "      <td>NaN</td>\n",
       "      <td>0</td>\n",
       "      <td>NaN</td>\n",
       "      <td>NaN</td>\n",
       "      <td>NaN</td>\n",
       "    </tr>\n",
       "    <tr>\n",
       "      <th>2</th>\n",
       "      <td>335982</td>\n",
       "      <td>1</td>\n",
       "      <td>Kolkata Knight Riders</td>\n",
       "      <td>Royal Challengers Bangalore</td>\n",
       "      <td>0</td>\n",
       "      <td>3</td>\n",
       "      <td>BB McCullum</td>\n",
       "      <td>P Kumar</td>\n",
       "      <td>SC Ganguly</td>\n",
       "      <td>0</td>\n",
       "      <td>1</td>\n",
       "      <td>1</td>\n",
       "      <td>wides</td>\n",
       "      <td>0</td>\n",
       "      <td>NaN</td>\n",
       "      <td>NaN</td>\n",
       "      <td>NaN</td>\n",
       "    </tr>\n",
       "    <tr>\n",
       "      <th>3</th>\n",
       "      <td>335982</td>\n",
       "      <td>1</td>\n",
       "      <td>Kolkata Knight Riders</td>\n",
       "      <td>Royal Challengers Bangalore</td>\n",
       "      <td>0</td>\n",
       "      <td>4</td>\n",
       "      <td>BB McCullum</td>\n",
       "      <td>P Kumar</td>\n",
       "      <td>SC Ganguly</td>\n",
       "      <td>0</td>\n",
       "      <td>0</td>\n",
       "      <td>0</td>\n",
       "      <td>NaN</td>\n",
       "      <td>0</td>\n",
       "      <td>NaN</td>\n",
       "      <td>NaN</td>\n",
       "      <td>NaN</td>\n",
       "    </tr>\n",
       "    <tr>\n",
       "      <th>4</th>\n",
       "      <td>335982</td>\n",
       "      <td>1</td>\n",
       "      <td>Kolkata Knight Riders</td>\n",
       "      <td>Royal Challengers Bangalore</td>\n",
       "      <td>0</td>\n",
       "      <td>5</td>\n",
       "      <td>BB McCullum</td>\n",
       "      <td>P Kumar</td>\n",
       "      <td>SC Ganguly</td>\n",
       "      <td>0</td>\n",
       "      <td>0</td>\n",
       "      <td>0</td>\n",
       "      <td>NaN</td>\n",
       "      <td>0</td>\n",
       "      <td>NaN</td>\n",
       "      <td>NaN</td>\n",
       "      <td>NaN</td>\n",
       "    </tr>\n",
       "  </tbody>\n",
       "</table>\n",
       "</div>"
      ],
      "text/plain": [
       "   match_id  inning           batting_team                 bowling_team  over  \\\n",
       "0    335982       1  Kolkata Knight Riders  Royal Challengers Bangalore     0   \n",
       "1    335982       1  Kolkata Knight Riders  Royal Challengers Bangalore     0   \n",
       "2    335982       1  Kolkata Knight Riders  Royal Challengers Bangalore     0   \n",
       "3    335982       1  Kolkata Knight Riders  Royal Challengers Bangalore     0   \n",
       "4    335982       1  Kolkata Knight Riders  Royal Challengers Bangalore     0   \n",
       "\n",
       "   ball       batter   bowler  non_striker  batsman_runs  extra_runs  \\\n",
       "0     1   SC Ganguly  P Kumar  BB McCullum             0           1   \n",
       "1     2  BB McCullum  P Kumar   SC Ganguly             0           0   \n",
       "2     3  BB McCullum  P Kumar   SC Ganguly             0           1   \n",
       "3     4  BB McCullum  P Kumar   SC Ganguly             0           0   \n",
       "4     5  BB McCullum  P Kumar   SC Ganguly             0           0   \n",
       "\n",
       "   total_runs extras_type  is_wicket player_dismissed dismissal_kind fielder  \n",
       "0           1     legbyes          0              NaN            NaN     NaN  \n",
       "1           0         NaN          0              NaN            NaN     NaN  \n",
       "2           1       wides          0              NaN            NaN     NaN  \n",
       "3           0         NaN          0              NaN            NaN     NaN  \n",
       "4           0         NaN          0              NaN            NaN     NaN  "
      ]
     },
     "execution_count": 2,
     "metadata": {},
     "output_type": "execute_result"
    }
   ],
   "source": [
    "df = pd.read_csv(\"deliveries.csv\")\n",
    "df.head()"
   ]
  },
  {
   "cell_type": "code",
   "execution_count": 3,
   "metadata": {},
   "outputs": [
    {
     "data": {
      "text/plain": [
       "extras_type\n",
       "wides      7651\n",
       "legbyes    3778\n",
       "noballs    1000\n",
       "byes        628\n",
       "penalty       2\n",
       "Name: count, dtype: int64"
      ]
     },
     "execution_count": 3,
     "metadata": {},
     "output_type": "execute_result"
    }
   ],
   "source": [
    "# different types of extras\n",
    "\n",
    "df['extras_type'].value_counts()"
   ]
  },
  {
   "cell_type": "code",
   "execution_count": 4,
   "metadata": {},
   "outputs": [
    {
     "data": {
      "text/plain": [
       "bowler\n",
       "Aman Hakim Khan    6\n",
       "RS Gavaskar        6\n",
       "RA Shaikh          6\n",
       "AM Rahane          6\n",
       "D Brevis           3\n",
       "SN Khan            2\n",
       "SPD Smith          2\n",
       "DA Warner          2\n",
       "AC Gilchrist       1\n",
       "YBK Jaiswal        1\n",
       "Name: count, dtype: int64"
      ]
     },
     "execution_count": 4,
     "metadata": {},
     "output_type": "execute_result"
    }
   ],
   "source": [
    "# bowler who has bowled most balls in ipl\n",
    "\n",
    "round(df['bowler'].value_counts().tail(10))"
   ]
  },
  {
   "cell_type": "code",
   "execution_count": 5,
   "metadata": {},
   "outputs": [
    {
     "data": {
      "text/plain": [
       "V Kohli      11296.0\n",
       "S Dhawan     11194.0\n",
       "RG Sharma     9824.0\n",
       "DA Warner     9257.0\n",
       "SK Raina      8486.0\n",
       "Name: count, dtype: float64"
      ]
     },
     "execution_count": 5,
     "metadata": {},
     "output_type": "execute_result"
    }
   ],
   "source": [
    "# Assuming df is your DataFrame with columns 'batter' and 'non_striker'\n",
    "\n",
    "# Count the number of balls faced by each batter\n",
    "batter_counts = df['batter'].value_counts()\n",
    "\n",
    "# Count the number of balls faced by each non-striker\n",
    "non_striker_counts = df['non_striker'].value_counts()\n",
    "\n",
    "# Sum the counts of balls faced by each player\n",
    "total_balls_faced = batter_counts.add(non_striker_counts, fill_value=0)\n",
    "\n",
    "total_balls_faced.sort_values(ascending=False).head()"
   ]
  },
  {
   "cell_type": "code",
   "execution_count": 6,
   "metadata": {},
   "outputs": [
    {
     "name": "stdout",
     "output_type": "stream",
     "text": [
      "Bowler with the maximum balls in an over:\n",
      "227030      NaN\n",
      "227031      NaN\n",
      "227032    wides\n",
      "227033    wides\n",
      "227034    wides\n",
      "227035    wides\n",
      "227036      NaN\n",
      "227037      NaN\n",
      "227038    wides\n",
      "227039      NaN\n",
      "227040      NaN\n",
      "Name: extras_type, dtype: object\n"
     ]
    }
   ],
   "source": [
    "# most balls in an over\n",
    "\n",
    "max_balls_index = df[\"ball\"].idxmax()\n",
    "max_balls_row = df.loc[max_balls_index]\n",
    "\n",
    "print(\"Bowler with the maximum balls in an over:\")\n",
    "print(df[(df[\"match_id\"] == 1359479) & (df['over'] == 18)]['extras_type'])"
   ]
  },
  {
   "cell_type": "code",
   "execution_count": 7,
   "metadata": {},
   "outputs": [
    {
     "data": {
      "text/plain": [
       "dismissal_kind\n",
       "caught                   7437\n",
       "bowled                   2089\n",
       "run out                  1062\n",
       "lbw                       750\n",
       "caught and bowled         349\n",
       "stumped                   345\n",
       "retired hurt               15\n",
       "hit wicket                 15\n",
       "retired out                 3\n",
       "obstructing the field       2\n",
       "Name: count, dtype: int64"
      ]
     },
     "execution_count": 7,
     "metadata": {},
     "output_type": "execute_result"
    }
   ],
   "source": [
    "# different types of dismisal in ipl\n",
    "\n",
    "df['dismissal_kind'].value_counts()"
   ]
  },
  {
   "cell_type": "code",
   "execution_count": 8,
   "metadata": {},
   "outputs": [
    {
     "data": {
      "text/plain": [
       "player_dismissed\n",
       "RG Sharma     210\n",
       "V Kohli       195\n",
       "S Dhawan      188\n",
       "RV Uthappa    180\n",
       "KD Karthik    175\n",
       "Name: count, dtype: int64"
      ]
     },
     "execution_count": 8,
     "metadata": {},
     "output_type": "execute_result"
    }
   ],
   "source": [
    "# most dismissed batsman\n",
    "\n",
    "df[\"player_dismissed\"].value_counts().head()"
   ]
  },
  {
   "cell_type": "code",
   "execution_count": 9,
   "metadata": {},
   "outputs": [
    {
     "name": "stdout",
     "output_type": "stream",
     "text": [
      "The bowler who has bowled the most wides is DJ Bravo with 167 wides.\n"
     ]
    }
   ],
   "source": [
    "# Filter the DataFrame based on the condition\n",
    "wides_df = df[df['extras_type'] == 'wides']\n",
    "\n",
    "# Group by the bowler and count the number of wides bowled by each bowler\n",
    "bowler_wides_count = wides_df.groupby('bowler').size()\n",
    "\n",
    "# Find the bowler who has bowled the most wides\n",
    "most_wides_bowler = bowler_wides_count.idxmax()\n",
    "most_wides_count = bowler_wides_count.max()\n",
    "\n",
    "print(f\"The bowler who has bowled the most wides is {most_wides_bowler} with {most_wides_count} wides.\")\n"
   ]
  },
  {
   "cell_type": "code",
   "execution_count": 10,
   "metadata": {},
   "outputs": [
    {
     "data": {
      "text/plain": [
       "bowler\n",
       "JJ Bumrah      29\n",
       "UT Yadav       23\n",
       "S Sreesanth    23\n",
       "I Sharma       22\n",
       "A Mishra       21\n",
       "dtype: int64"
      ]
     },
     "execution_count": 10,
     "metadata": {},
     "output_type": "execute_result"
    }
   ],
   "source": [
    "# Filter the DataFrame based on the condition\n",
    "noballs_df = df[df['extras_type'] == 'noballs']\n",
    "\n",
    "# Group by the bowler and count the number of wides bowled by each bowler\n",
    "bowler_noballs_count = noballs_df.groupby('bowler').size()\n",
    "\n",
    "bowler_noballs_count.sort_values(ascending=False).head()"
   ]
  },
  {
   "cell_type": "code",
   "execution_count": 11,
   "metadata": {},
   "outputs": [
    {
     "data": {
      "text/html": [
       "<div>\n",
       "<style scoped>\n",
       "    .dataframe tbody tr th:only-of-type {\n",
       "        vertical-align: middle;\n",
       "    }\n",
       "\n",
       "    .dataframe tbody tr th {\n",
       "        vertical-align: top;\n",
       "    }\n",
       "\n",
       "    .dataframe thead th {\n",
       "        text-align: right;\n",
       "    }\n",
       "</style>\n",
       "<table border=\"1\" class=\"dataframe\">\n",
       "  <thead>\n",
       "    <tr style=\"text-align: right;\">\n",
       "      <th></th>\n",
       "      <th>match_id</th>\n",
       "      <th>inning</th>\n",
       "      <th>batting_team</th>\n",
       "      <th>bowling_team</th>\n",
       "      <th>over</th>\n",
       "      <th>ball</th>\n",
       "      <th>batter</th>\n",
       "      <th>bowler</th>\n",
       "      <th>non_striker</th>\n",
       "      <th>batsman_runs</th>\n",
       "      <th>extra_runs</th>\n",
       "      <th>total_runs</th>\n",
       "      <th>extras_type</th>\n",
       "      <th>is_wicket</th>\n",
       "      <th>player_dismissed</th>\n",
       "      <th>dismissal_kind</th>\n",
       "      <th>fielder</th>\n",
       "    </tr>\n",
       "  </thead>\n",
       "  <tbody>\n",
       "    <tr>\n",
       "      <th>2358</th>\n",
       "      <td>335991</td>\n",
       "      <td>2</td>\n",
       "      <td>Mumbai Indians</td>\n",
       "      <td>Kings XI Punjab</td>\n",
       "      <td>17</td>\n",
       "      <td>2</td>\n",
       "      <td>MA Khote</td>\n",
       "      <td>S Sreesanth</td>\n",
       "      <td>DS Kulkarni</td>\n",
       "      <td>0</td>\n",
       "      <td>0</td>\n",
       "      <td>0</td>\n",
       "      <td>NaN</td>\n",
       "      <td>1</td>\n",
       "      <td>MA Khote</td>\n",
       "      <td>hit wicket</td>\n",
       "      <td>NaN</td>\n",
       "    </tr>\n",
       "    <tr>\n",
       "      <th>8031</th>\n",
       "      <td>336016</td>\n",
       "      <td>1</td>\n",
       "      <td>Royal Challengers Bangalore</td>\n",
       "      <td>Kings XI Punjab</td>\n",
       "      <td>4</td>\n",
       "      <td>6</td>\n",
       "      <td>Misbah-ul-Haq</td>\n",
       "      <td>S Sreesanth</td>\n",
       "      <td>V Kohli</td>\n",
       "      <td>0</td>\n",
       "      <td>0</td>\n",
       "      <td>0</td>\n",
       "      <td>NaN</td>\n",
       "      <td>1</td>\n",
       "      <td>Misbah-ul-Haq</td>\n",
       "      <td>hit wicket</td>\n",
       "      <td>NaN</td>\n",
       "    </tr>\n",
       "    <tr>\n",
       "      <th>18029</th>\n",
       "      <td>392202</td>\n",
       "      <td>2</td>\n",
       "      <td>Rajasthan Royals</td>\n",
       "      <td>Chennai Super Kings</td>\n",
       "      <td>5</td>\n",
       "      <td>3</td>\n",
       "      <td>SA Asnodkar</td>\n",
       "      <td>JA Morkel</td>\n",
       "      <td>RJ Quiney</td>\n",
       "      <td>0</td>\n",
       "      <td>0</td>\n",
       "      <td>0</td>\n",
       "      <td>NaN</td>\n",
       "      <td>1</td>\n",
       "      <td>SA Asnodkar</td>\n",
       "      <td>hit wicket</td>\n",
       "      <td>NaN</td>\n",
       "    </tr>\n",
       "    <tr>\n",
       "      <th>59825</th>\n",
       "      <td>548311</td>\n",
       "      <td>1</td>\n",
       "      <td>Chennai Super Kings</td>\n",
       "      <td>Deccan Chargers</td>\n",
       "      <td>17</td>\n",
       "      <td>2</td>\n",
       "      <td>RA Jadeja</td>\n",
       "      <td>DW Steyn</td>\n",
       "      <td>DJ Bravo</td>\n",
       "      <td>0</td>\n",
       "      <td>0</td>\n",
       "      <td>0</td>\n",
       "      <td>NaN</td>\n",
       "      <td>1</td>\n",
       "      <td>RA Jadeja</td>\n",
       "      <td>hit wicket</td>\n",
       "      <td>NaN</td>\n",
       "    </tr>\n",
       "    <tr>\n",
       "      <th>72773</th>\n",
       "      <td>548367</td>\n",
       "      <td>1</td>\n",
       "      <td>Royal Challengers Bangalore</td>\n",
       "      <td>Mumbai Indians</td>\n",
       "      <td>6</td>\n",
       "      <td>3</td>\n",
       "      <td>SS Tiwary</td>\n",
       "      <td>Harbhajan Singh</td>\n",
       "      <td>TM Dilshan</td>\n",
       "      <td>0</td>\n",
       "      <td>0</td>\n",
       "      <td>0</td>\n",
       "      <td>NaN</td>\n",
       "      <td>1</td>\n",
       "      <td>SS Tiwary</td>\n",
       "      <td>hit wicket</td>\n",
       "      <td>NaN</td>\n",
       "    </tr>\n",
       "  </tbody>\n",
       "</table>\n",
       "</div>"
      ],
      "text/plain": [
       "       match_id  inning                 batting_team         bowling_team  \\\n",
       "2358     335991       2               Mumbai Indians      Kings XI Punjab   \n",
       "8031     336016       1  Royal Challengers Bangalore      Kings XI Punjab   \n",
       "18029    392202       2             Rajasthan Royals  Chennai Super Kings   \n",
       "59825    548311       1          Chennai Super Kings      Deccan Chargers   \n",
       "72773    548367       1  Royal Challengers Bangalore       Mumbai Indians   \n",
       "\n",
       "       over  ball         batter           bowler  non_striker  batsman_runs  \\\n",
       "2358     17     2       MA Khote      S Sreesanth  DS Kulkarni             0   \n",
       "8031      4     6  Misbah-ul-Haq      S Sreesanth      V Kohli             0   \n",
       "18029     5     3    SA Asnodkar        JA Morkel    RJ Quiney             0   \n",
       "59825    17     2      RA Jadeja         DW Steyn     DJ Bravo             0   \n",
       "72773     6     3      SS Tiwary  Harbhajan Singh   TM Dilshan             0   \n",
       "\n",
       "       extra_runs  total_runs extras_type  is_wicket player_dismissed  \\\n",
       "2358            0           0         NaN          1         MA Khote   \n",
       "8031            0           0         NaN          1    Misbah-ul-Haq   \n",
       "18029           0           0         NaN          1      SA Asnodkar   \n",
       "59825           0           0         NaN          1        RA Jadeja   \n",
       "72773           0           0         NaN          1        SS Tiwary   \n",
       "\n",
       "      dismissal_kind fielder  \n",
       "2358      hit wicket     NaN  \n",
       "8031      hit wicket     NaN  \n",
       "18029     hit wicket     NaN  \n",
       "59825     hit wicket     NaN  \n",
       "72773     hit wicket     NaN  "
      ]
     },
     "execution_count": 11,
     "metadata": {},
     "output_type": "execute_result"
    }
   ],
   "source": [
    "df[df[\"dismissal_kind\"] == \"hit wicket\"].head()"
   ]
  },
  {
   "cell_type": "code",
   "execution_count": 12,
   "metadata": {},
   "outputs": [
    {
     "data": {
      "text/plain": [
       "bowler\n",
       "SL Malinga    63\n",
       "PP Chawla     48\n",
       "SP Narine     46\n",
       "RA Jadeja     39\n",
       "B Kumar       38\n",
       "Name: count, dtype: int64"
      ]
     },
     "execution_count": 12,
     "metadata": {},
     "output_type": "execute_result"
    }
   ],
   "source": [
    "df[df['dismissal_kind'] == 'bowled']['bowler'].value_counts().head()"
   ]
  },
  {
   "cell_type": "code",
   "execution_count": 13,
   "metadata": {},
   "outputs": [
    {
     "data": {
      "text/plain": [
       "bowler\n",
       "Harbhajan Singh    11\n",
       "DJ Bravo           11\n",
       "SP Narine           8\n",
       "RA Jadeja           7\n",
       "Kuldeep Yadav       7\n",
       "Name: count, dtype: int64"
      ]
     },
     "execution_count": 13,
     "metadata": {},
     "output_type": "execute_result"
    }
   ],
   "source": [
    "df[df[\"dismissal_kind\"] == \"caught and bowled\"][\"bowler\"].value_counts().head()"
   ]
  }
 ],
 "metadata": {
  "kernelspec": {
   "display_name": "base",
   "language": "python",
   "name": "python3"
  },
  "language_info": {
   "codemirror_mode": {
    "name": "ipython",
    "version": 3
   },
   "file_extension": ".py",
   "mimetype": "text/x-python",
   "name": "python",
   "nbconvert_exporter": "python",
   "pygments_lexer": "ipython3",
   "version": "3.11.5"
  }
 },
 "nbformat": 4,
 "nbformat_minor": 2
}
